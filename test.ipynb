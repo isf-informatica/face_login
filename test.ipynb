{
 "cells": [
  {
   "cell_type": "code",
   "execution_count": 2,
   "metadata": {},
   "outputs": [],
   "source": [
    "import cv2\n",
    "import face_recognition\n",
    "import numpy as np\n",
    "from flask import Flask, render_template, request,jsonify\n",
    "import os"
   ]
  },
  {
   "cell_type": "code",
   "execution_count": 3,
   "metadata": {},
   "outputs": [],
   "source": [
    "known_faces_encoding1=[]\n",
    "known_faces_names1=[]\n",
    "\n"
   ]
  },
  {
   "cell_type": "code",
   "execution_count": 4,
   "metadata": {},
   "outputs": [],
   "source": [
    "def face_register(name,dataUrl):\n",
    "    a=face_recognition.load_image_file(dataUrl)\n",
    "    b=face_recognition.face_encodings(a)[0]\n",
    "    known_faces_encoding1.append(b)\n",
    "    known_faces_names1.append(name)\n",
    "    \n"
   ]
  },
  {
   "cell_type": "code",
   "execution_count": 7,
   "metadata": {},
   "outputs": [],
   "source": [
    "a='WIN_20230721_14_17_59_Pro.jpg'"
   ]
  },
  {
   "cell_type": "code",
   "execution_count": 8,
   "metadata": {},
   "outputs": [],
   "source": [
    "face_register('upendra',a)"
   ]
  },
  {
   "cell_type": "code",
   "execution_count": 9,
   "metadata": {},
   "outputs": [
    {
     "data": {
      "text/plain": [
       "['upendra']"
      ]
     },
     "execution_count": 9,
     "metadata": {},
     "output_type": "execute_result"
    }
   ],
   "source": [
    "known_faces_names1"
   ]
  },
  {
   "cell_type": "code",
   "execution_count": 10,
   "metadata": {},
   "outputs": [
    {
     "data": {
      "text/plain": [
       "[array([-0.09058817,  0.03743108, -0.00738808, -0.04115802,  0.03817498,\n",
       "        -0.07017726, -0.00669977, -0.0993192 ,  0.15444537, -0.12007055,\n",
       "         0.2387448 , -0.01886349, -0.13940877, -0.15774335,  0.04697949,\n",
       "         0.02614636, -0.1328624 , -0.10369153, -0.05237908, -0.10364641,\n",
       "        -0.03818846,  0.02980636,  0.04346107,  0.06348611, -0.17809486,\n",
       "        -0.36052302, -0.07369793, -0.1449883 ,  0.02136461, -0.10127269,\n",
       "        -0.03642162,  0.10708274, -0.144546  ,  0.00983331, -0.00701566,\n",
       "         0.10088273,  0.02457146,  0.0122728 ,  0.20798531,  0.10223873,\n",
       "        -0.09791143, -0.07957362, -0.04290961,  0.32081231,  0.22034872,\n",
       "        -0.02494853, -0.02226337, -0.01801496,  0.09775128, -0.19604802,\n",
       "         0.03254056,  0.1131576 ,  0.09178983,  0.0200673 ,  0.07980093,\n",
       "        -0.12273178, -0.03022854, -0.04674166, -0.143979  ,  0.00492577,\n",
       "        -0.05546486, -0.07072993, -0.04656111, -0.01691164,  0.22870669,\n",
       "         0.08178788, -0.09131931, -0.05061358,  0.13797475, -0.19023535,\n",
       "         0.00464817,  0.0678295 , -0.09083139, -0.19034585, -0.21201377,\n",
       "         0.07269292,  0.34273511,  0.17438164, -0.20478982,  0.0311589 ,\n",
       "        -0.12480771, -0.09951001,  0.12438731,  0.05257317, -0.07761403,\n",
       "         0.06230591, -0.07746218,  0.05216078,  0.19044429, -0.00653387,\n",
       "        -0.07735836,  0.18478124, -0.06381035,  0.09185292,  0.0818843 ,\n",
       "        -0.07299308, -0.06985243,  0.02263922, -0.11438626, -0.00972028,\n",
       "         0.06351674, -0.11668222,  0.01465083,  0.08527004, -0.18217248,\n",
       "         0.12547688,  0.06206147, -0.08068752,  0.04302512,  0.05871578,\n",
       "        -0.13565861, -0.1086484 ,  0.14910117, -0.26179913,  0.14773737,\n",
       "         0.16124925,  0.05271302,  0.21430737,  0.0409181 ,  0.0565745 ,\n",
       "        -0.02622733,  0.00765698, -0.06405985, -0.00960063,  0.01391586,\n",
       "         0.03301243,  0.04530263, -0.02506186])]"
      ]
     },
     "execution_count": 10,
     "metadata": {},
     "output_type": "execute_result"
    }
   ],
   "source": [
    "known_faces_encoding1"
   ]
  },
  {
   "cell_type": "code",
   "execution_count": 29,
   "metadata": {},
   "outputs": [],
   "source": [
    "from Face_registration import  face_register,known_faces_names1,known_faces_encoding1"
   ]
  },
  {
   "cell_type": "code",
   "execution_count": 34,
   "metadata": {},
   "outputs": [
    {
     "name": "stdout",
     "output_type": "stream",
     "text": [
      "Name already taken\n"
     ]
    }
   ],
   "source": [
    "face_register('suraj','WIN_20230721_14_17_59_Pro.jpg')"
   ]
  },
  {
   "cell_type": "code",
   "execution_count": 35,
   "metadata": {},
   "outputs": [
    {
     "data": {
      "text/plain": [
       "['suraj']"
      ]
     },
     "execution_count": 35,
     "metadata": {},
     "output_type": "execute_result"
    }
   ],
   "source": [
    "known_faces_names1"
   ]
  },
  {
   "cell_type": "code",
   "execution_count": 36,
   "metadata": {},
   "outputs": [],
   "source": [
    "# known_faces_encoding1"
   ]
  },
  {
   "cell_type": "code",
   "execution_count": 12,
   "metadata": {},
   "outputs": [],
   "source": [
    "from face_data import known_faces_encoding1,known_faces_names1"
   ]
  },
  {
   "cell_type": "code",
   "execution_count": 13,
   "metadata": {},
   "outputs": [
    {
     "data": {
      "text/plain": [
       "[]"
      ]
     },
     "execution_count": 13,
     "metadata": {},
     "output_type": "execute_result"
    }
   ],
   "source": [
    "known_faces_names1"
   ]
  },
  {
   "cell_type": "code",
   "execution_count": null,
   "metadata": {},
   "outputs": [],
   "source": []
  }
 ],
 "metadata": {
  "kernelspec": {
   "display_name": "Python 3",
   "language": "python",
   "name": "python3"
  },
  "language_info": {
   "codemirror_mode": {
    "name": "ipython",
    "version": 3
   },
   "file_extension": ".py",
   "mimetype": "text/x-python",
   "name": "python",
   "nbconvert_exporter": "python",
   "pygments_lexer": "ipython3",
   "version": "3.11.3"
  },
  "orig_nbformat": 4
 },
 "nbformat": 4,
 "nbformat_minor": 2
}
